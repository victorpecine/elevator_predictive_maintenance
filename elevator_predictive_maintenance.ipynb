{
  "nbformat": 4,
  "nbformat_minor": 0,
  "metadata": {
    "colab": {
      "provenance": [],
      "toc_visible": true,
      "mount_file_id": "1Q2tkkrBY3iniQn75aRnA7buWCk28kuwa",
      "authorship_tag": "ABX9TyN2QzlnGT6BVG9hrI8aNWar"
    },
    "kernelspec": {
      "name": "python3",
      "display_name": "Python 3"
    },
    "language_info": {
      "name": "python"
    }
  },
  "cells": [
    {
      "cell_type": "markdown",
      "source": [
        "# Bibliotecas"
      ],
      "metadata": {
        "id": "_5LDtQ9WWivd"
      }
    },
    {
      "cell_type": "code",
      "execution_count": 199,
      "metadata": {
        "id": "GM8ndnEuOQe4"
      },
      "outputs": [],
      "source": [
        "# ! pip install pmdarima\n",
        "# ! pip install ptitprince\n",
        "# ! pip install pandas -U"
      ]
    },
    {
      "cell_type": "code",
      "source": [
        "import pandas as pd\n",
        "import numpy as np\n",
        "import seaborn as sns\n",
        "import matplotlib.pyplot as plt\n",
        "from sklearn.metrics import (mean_squared_error,\n",
        "                             r2_score,\n",
        "                             mean_absolute_error)\n",
        "from sklearn.model_selection import train_test_split\n",
        "from sklearn.linear_model import LinearRegression\n",
        "from math import sqrt"
      ],
      "metadata": {
        "id": "0wSJNbHlWgxN"
      },
      "execution_count": 200,
      "outputs": []
    },
    {
      "cell_type": "code",
      "source": [
        "np.random.seed(31)"
      ],
      "metadata": {
        "id": "uiElg6bm_Ecy"
      },
      "execution_count": 201,
      "outputs": []
    },
    {
      "cell_type": "markdown",
      "source": [
        "# Dataset"
      ],
      "metadata": {
        "id": "kOBZLJaLWqa8"
      }
    },
    {
      "cell_type": "markdown",
      "source": [
        "Target: Vibration (predict the absolute value of vibration)"
      ],
      "metadata": {
        "id": "VP49NK_Obuv2"
      }
    },
    {
      "cell_type": "code",
      "source": [
        "df = pd.read_csv('/content/drive/MyDrive/Datasets/predictive-maintenance-dataset.csv',\n",
        "                 sep=',',\n",
        "                 encoding='utf-8')\n",
        "\n",
        "len_df = len(df)"
      ],
      "metadata": {
        "id": "3tlJXDTbWrWN"
      },
      "execution_count": 202,
      "outputs": []
    },
    {
      "cell_type": "code",
      "source": [
        "t_stamp = pd.date_range(start='2022-01-01 16:30:00',\n",
        "                        end='2022-01-01 19:30:00',\n",
        "                        periods=len_df)"
      ],
      "metadata": {
        "id": "arVnDvmqUjrC"
      },
      "execution_count": 203,
      "outputs": []
    },
    {
      "cell_type": "code",
      "source": [
        "df.index = pd.to_datetime(t_stamp,\n",
        "                          format='%Y-%m-%d %H:%M:%S%f')\n",
        "\n",
        "df.drop(columns='ID', inplace=True)"
      ],
      "metadata": {
        "id": "44fV3i5JVYDA"
      },
      "execution_count": 204,
      "outputs": []
    },
    {
      "cell_type": "code",
      "source": [
        "df.head(10)"
      ],
      "metadata": {
        "colab": {
          "base_uri": "https://localhost:8080/",
          "height": 363
        },
        "id": "tI2Nimq2U7S1",
        "outputId": "5e7af69f-c0ad-4e3c-fecc-16fee74eb181"
      },
      "execution_count": 205,
      "outputs": [
        {
          "output_type": "execute_result",
          "data": {
            "text/plain": [
              "                               revolutions  humidity  vibration       x1  \\\n",
              "2022-01-01 16:30:00.000000000       93.744    73.999      18.00  167.743   \n",
              "2022-01-01 16:30:00.096428571       93.740    73.999      18.00  167.739   \n",
              "2022-01-01 16:30:00.192857142       93.736    73.998      18.00  167.734   \n",
              "2022-01-01 16:30:00.289285714       93.732    73.998      18.00  167.730   \n",
              "2022-01-01 16:30:00.385714285       93.729    73.998      18.00  167.727   \n",
              "2022-01-01 16:30:00.482142857       93.725    73.997      18.01  167.722   \n",
              "2022-01-01 16:30:00.578571428       93.721    73.997      18.01  167.718   \n",
              "2022-01-01 16:30:00.675000000       93.717    73.997      18.01  167.714   \n",
              "2022-01-01 16:30:00.771428571       93.713    73.996      18.01  167.709   \n",
              "2022-01-01 16:30:00.867857142       93.709    73.996      18.01  167.705   \n",
              "\n",
              "                                   x2        x3           x4           x5  \n",
              "2022-01-01 16:30:00.000000000  19.745  1.266828  8787.937536  5475.852001  \n",
              "2022-01-01 16:30:00.096428571  19.741  1.266774  8787.187600  5475.852001  \n",
              "2022-01-01 16:30:00.192857142  19.738  1.266737  8786.437696  5475.704004  \n",
              "2022-01-01 16:30:00.289285714  19.734  1.266683  8785.687824  5475.704004  \n",
              "2022-01-01 16:30:00.385714285  19.731  1.266642  8785.125441  5475.704004  \n",
              "2022-01-01 16:30:00.482142857  19.728  1.266605  8784.375625  5475.556009  \n",
              "2022-01-01 16:30:00.578571428  19.724  1.266551  8783.625841  5475.556009  \n",
              "2022-01-01 16:30:00.675000000  19.720  1.266497  8782.876089  5475.556009  \n",
              "2022-01-01 16:30:00.771428571  19.717  1.266460  8782.126369  5475.408016  \n",
              "2022-01-01 16:30:00.867857142  19.713  1.266406  8781.376681  5475.408016  "
            ],
            "text/html": [
              "\n",
              "  <div id=\"df-f211f189-2faa-45dc-bb52-97547e22a5f3\">\n",
              "    <div class=\"colab-df-container\">\n",
              "      <div>\n",
              "<style scoped>\n",
              "    .dataframe tbody tr th:only-of-type {\n",
              "        vertical-align: middle;\n",
              "    }\n",
              "\n",
              "    .dataframe tbody tr th {\n",
              "        vertical-align: top;\n",
              "    }\n",
              "\n",
              "    .dataframe thead th {\n",
              "        text-align: right;\n",
              "    }\n",
              "</style>\n",
              "<table border=\"1\" class=\"dataframe\">\n",
              "  <thead>\n",
              "    <tr style=\"text-align: right;\">\n",
              "      <th></th>\n",
              "      <th>revolutions</th>\n",
              "      <th>humidity</th>\n",
              "      <th>vibration</th>\n",
              "      <th>x1</th>\n",
              "      <th>x2</th>\n",
              "      <th>x3</th>\n",
              "      <th>x4</th>\n",
              "      <th>x5</th>\n",
              "    </tr>\n",
              "  </thead>\n",
              "  <tbody>\n",
              "    <tr>\n",
              "      <th>2022-01-01 16:30:00.000000000</th>\n",
              "      <td>93.744</td>\n",
              "      <td>73.999</td>\n",
              "      <td>18.00</td>\n",
              "      <td>167.743</td>\n",
              "      <td>19.745</td>\n",
              "      <td>1.266828</td>\n",
              "      <td>8787.937536</td>\n",
              "      <td>5475.852001</td>\n",
              "    </tr>\n",
              "    <tr>\n",
              "      <th>2022-01-01 16:30:00.096428571</th>\n",
              "      <td>93.740</td>\n",
              "      <td>73.999</td>\n",
              "      <td>18.00</td>\n",
              "      <td>167.739</td>\n",
              "      <td>19.741</td>\n",
              "      <td>1.266774</td>\n",
              "      <td>8787.187600</td>\n",
              "      <td>5475.852001</td>\n",
              "    </tr>\n",
              "    <tr>\n",
              "      <th>2022-01-01 16:30:00.192857142</th>\n",
              "      <td>93.736</td>\n",
              "      <td>73.998</td>\n",
              "      <td>18.00</td>\n",
              "      <td>167.734</td>\n",
              "      <td>19.738</td>\n",
              "      <td>1.266737</td>\n",
              "      <td>8786.437696</td>\n",
              "      <td>5475.704004</td>\n",
              "    </tr>\n",
              "    <tr>\n",
              "      <th>2022-01-01 16:30:00.289285714</th>\n",
              "      <td>93.732</td>\n",
              "      <td>73.998</td>\n",
              "      <td>18.00</td>\n",
              "      <td>167.730</td>\n",
              "      <td>19.734</td>\n",
              "      <td>1.266683</td>\n",
              "      <td>8785.687824</td>\n",
              "      <td>5475.704004</td>\n",
              "    </tr>\n",
              "    <tr>\n",
              "      <th>2022-01-01 16:30:00.385714285</th>\n",
              "      <td>93.729</td>\n",
              "      <td>73.998</td>\n",
              "      <td>18.00</td>\n",
              "      <td>167.727</td>\n",
              "      <td>19.731</td>\n",
              "      <td>1.266642</td>\n",
              "      <td>8785.125441</td>\n",
              "      <td>5475.704004</td>\n",
              "    </tr>\n",
              "    <tr>\n",
              "      <th>2022-01-01 16:30:00.482142857</th>\n",
              "      <td>93.725</td>\n",
              "      <td>73.997</td>\n",
              "      <td>18.01</td>\n",
              "      <td>167.722</td>\n",
              "      <td>19.728</td>\n",
              "      <td>1.266605</td>\n",
              "      <td>8784.375625</td>\n",
              "      <td>5475.556009</td>\n",
              "    </tr>\n",
              "    <tr>\n",
              "      <th>2022-01-01 16:30:00.578571428</th>\n",
              "      <td>93.721</td>\n",
              "      <td>73.997</td>\n",
              "      <td>18.01</td>\n",
              "      <td>167.718</td>\n",
              "      <td>19.724</td>\n",
              "      <td>1.266551</td>\n",
              "      <td>8783.625841</td>\n",
              "      <td>5475.556009</td>\n",
              "    </tr>\n",
              "    <tr>\n",
              "      <th>2022-01-01 16:30:00.675000000</th>\n",
              "      <td>93.717</td>\n",
              "      <td>73.997</td>\n",
              "      <td>18.01</td>\n",
              "      <td>167.714</td>\n",
              "      <td>19.720</td>\n",
              "      <td>1.266497</td>\n",
              "      <td>8782.876089</td>\n",
              "      <td>5475.556009</td>\n",
              "    </tr>\n",
              "    <tr>\n",
              "      <th>2022-01-01 16:30:00.771428571</th>\n",
              "      <td>93.713</td>\n",
              "      <td>73.996</td>\n",
              "      <td>18.01</td>\n",
              "      <td>167.709</td>\n",
              "      <td>19.717</td>\n",
              "      <td>1.266460</td>\n",
              "      <td>8782.126369</td>\n",
              "      <td>5475.408016</td>\n",
              "    </tr>\n",
              "    <tr>\n",
              "      <th>2022-01-01 16:30:00.867857142</th>\n",
              "      <td>93.709</td>\n",
              "      <td>73.996</td>\n",
              "      <td>18.01</td>\n",
              "      <td>167.705</td>\n",
              "      <td>19.713</td>\n",
              "      <td>1.266406</td>\n",
              "      <td>8781.376681</td>\n",
              "      <td>5475.408016</td>\n",
              "    </tr>\n",
              "  </tbody>\n",
              "</table>\n",
              "</div>\n",
              "      <button class=\"colab-df-convert\" onclick=\"convertToInteractive('df-f211f189-2faa-45dc-bb52-97547e22a5f3')\"\n",
              "              title=\"Convert this dataframe to an interactive table.\"\n",
              "              style=\"display:none;\">\n",
              "        \n",
              "  <svg xmlns=\"http://www.w3.org/2000/svg\" height=\"24px\"viewBox=\"0 0 24 24\"\n",
              "       width=\"24px\">\n",
              "    <path d=\"M0 0h24v24H0V0z\" fill=\"none\"/>\n",
              "    <path d=\"M18.56 5.44l.94 2.06.94-2.06 2.06-.94-2.06-.94-.94-2.06-.94 2.06-2.06.94zm-11 1L8.5 8.5l.94-2.06 2.06-.94-2.06-.94L8.5 2.5l-.94 2.06-2.06.94zm10 10l.94 2.06.94-2.06 2.06-.94-2.06-.94-.94-2.06-.94 2.06-2.06.94z\"/><path d=\"M17.41 7.96l-1.37-1.37c-.4-.4-.92-.59-1.43-.59-.52 0-1.04.2-1.43.59L10.3 9.45l-7.72 7.72c-.78.78-.78 2.05 0 2.83L4 21.41c.39.39.9.59 1.41.59.51 0 1.02-.2 1.41-.59l7.78-7.78 2.81-2.81c.8-.78.8-2.07 0-2.86zM5.41 20L4 18.59l7.72-7.72 1.47 1.35L5.41 20z\"/>\n",
              "  </svg>\n",
              "      </button>\n",
              "      \n",
              "  <style>\n",
              "    .colab-df-container {\n",
              "      display:flex;\n",
              "      flex-wrap:wrap;\n",
              "      gap: 12px;\n",
              "    }\n",
              "\n",
              "    .colab-df-convert {\n",
              "      background-color: #E8F0FE;\n",
              "      border: none;\n",
              "      border-radius: 50%;\n",
              "      cursor: pointer;\n",
              "      display: none;\n",
              "      fill: #1967D2;\n",
              "      height: 32px;\n",
              "      padding: 0 0 0 0;\n",
              "      width: 32px;\n",
              "    }\n",
              "\n",
              "    .colab-df-convert:hover {\n",
              "      background-color: #E2EBFA;\n",
              "      box-shadow: 0px 1px 2px rgba(60, 64, 67, 0.3), 0px 1px 3px 1px rgba(60, 64, 67, 0.15);\n",
              "      fill: #174EA6;\n",
              "    }\n",
              "\n",
              "    [theme=dark] .colab-df-convert {\n",
              "      background-color: #3B4455;\n",
              "      fill: #D2E3FC;\n",
              "    }\n",
              "\n",
              "    [theme=dark] .colab-df-convert:hover {\n",
              "      background-color: #434B5C;\n",
              "      box-shadow: 0px 1px 3px 1px rgba(0, 0, 0, 0.15);\n",
              "      filter: drop-shadow(0px 1px 2px rgba(0, 0, 0, 0.3));\n",
              "      fill: #FFFFFF;\n",
              "    }\n",
              "  </style>\n",
              "\n",
              "      <script>\n",
              "        const buttonEl =\n",
              "          document.querySelector('#df-f211f189-2faa-45dc-bb52-97547e22a5f3 button.colab-df-convert');\n",
              "        buttonEl.style.display =\n",
              "          google.colab.kernel.accessAllowed ? 'block' : 'none';\n",
              "\n",
              "        async function convertToInteractive(key) {\n",
              "          const element = document.querySelector('#df-f211f189-2faa-45dc-bb52-97547e22a5f3');\n",
              "          const dataTable =\n",
              "            await google.colab.kernel.invokeFunction('convertToInteractive',\n",
              "                                                     [key], {});\n",
              "          if (!dataTable) return;\n",
              "\n",
              "          const docLinkHtml = 'Like what you see? Visit the ' +\n",
              "            '<a target=\"_blank\" href=https://colab.research.google.com/notebooks/data_table.ipynb>data table notebook</a>'\n",
              "            + ' to learn more about interactive tables.';\n",
              "          element.innerHTML = '';\n",
              "          dataTable['output_type'] = 'display_data';\n",
              "          await google.colab.output.renderOutput(dataTable, element);\n",
              "          const docLink = document.createElement('div');\n",
              "          docLink.innerHTML = docLinkHtml;\n",
              "          element.appendChild(docLink);\n",
              "        }\n",
              "      </script>\n",
              "    </div>\n",
              "  </div>\n",
              "  "
            ]
          },
          "metadata": {},
          "execution_count": 205
        }
      ]
    },
    {
      "cell_type": "code",
      "source": [
        "df.isnull().sum()"
      ],
      "metadata": {
        "colab": {
          "base_uri": "https://localhost:8080/"
        },
        "id": "iAb24rEnW6oV",
        "outputId": "d39de262-c179-46bc-ca06-e8fa0246f68a"
      },
      "execution_count": 206,
      "outputs": [
        {
          "output_type": "execute_result",
          "data": {
            "text/plain": [
              "revolutions       0\n",
              "humidity          0\n",
              "vibration      2438\n",
              "x1                0\n",
              "x2                0\n",
              "x3                0\n",
              "x4                0\n",
              "x5                0\n",
              "dtype: int64"
            ]
          },
          "metadata": {},
          "execution_count": 206
        }
      ]
    },
    {
      "cell_type": "code",
      "source": [
        "df.interpolate(method='linear', inplace=True)\n",
        "\n",
        "df.isnull().sum()"
      ],
      "metadata": {
        "id": "Aoqz9mb2NMxu",
        "colab": {
          "base_uri": "https://localhost:8080/"
        },
        "outputId": "4f05580f-1705-4cc5-c849-1bf1c9abe360"
      },
      "execution_count": 207,
      "outputs": [
        {
          "output_type": "execute_result",
          "data": {
            "text/plain": [
              "revolutions    0\n",
              "humidity       0\n",
              "vibration      0\n",
              "x1             0\n",
              "x2             0\n",
              "x3             0\n",
              "x4             0\n",
              "x5             0\n",
              "dtype: int64"
            ]
          },
          "metadata": {},
          "execution_count": 207
        }
      ]
    },
    {
      "cell_type": "markdown",
      "source": [
        "## Correlação"
      ],
      "metadata": {
        "id": "VQAq4HtH-cXe"
      }
    },
    {
      "cell_type": "code",
      "source": [
        "df.corr().round(3)"
      ],
      "metadata": {
        "colab": {
          "base_uri": "https://localhost:8080/",
          "height": 300
        },
        "id": "0o6_hp32rZ4K",
        "outputId": "07d24a87-bc27-4c61-f400-1311066fd922"
      },
      "execution_count": 208,
      "outputs": [
        {
          "output_type": "execute_result",
          "data": {
            "text/plain": [
              "             revolutions  humidity  vibration     x1     x2     x3     x4  \\\n",
              "revolutions        1.000    -0.101     -0.110  0.999  0.999  1.000  0.983   \n",
              "humidity          -0.101     1.000      0.137 -0.066 -0.137 -0.129 -0.208   \n",
              "vibration         -0.110     0.137      1.000 -0.106 -0.115 -0.113 -0.138   \n",
              "x1                 0.999    -0.066     -0.106  1.000  0.997  0.998  0.978   \n",
              "x2                 0.999    -0.137     -0.115  0.997  1.000  1.000  0.986   \n",
              "x3                 1.000    -0.129     -0.113  0.998  1.000  1.000  0.985   \n",
              "x4                 0.983    -0.208     -0.138  0.978  0.986  0.985  1.000   \n",
              "x5                -0.099     1.000      0.138 -0.063 -0.134 -0.126 -0.205   \n",
              "\n",
              "                x5  \n",
              "revolutions -0.099  \n",
              "humidity     1.000  \n",
              "vibration    0.138  \n",
              "x1          -0.063  \n",
              "x2          -0.134  \n",
              "x3          -0.126  \n",
              "x4          -0.205  \n",
              "x5           1.000  "
            ],
            "text/html": [
              "\n",
              "  <div id=\"df-eef46ab6-e685-467d-b79b-f5a09c29cee6\">\n",
              "    <div class=\"colab-df-container\">\n",
              "      <div>\n",
              "<style scoped>\n",
              "    .dataframe tbody tr th:only-of-type {\n",
              "        vertical-align: middle;\n",
              "    }\n",
              "\n",
              "    .dataframe tbody tr th {\n",
              "        vertical-align: top;\n",
              "    }\n",
              "\n",
              "    .dataframe thead th {\n",
              "        text-align: right;\n",
              "    }\n",
              "</style>\n",
              "<table border=\"1\" class=\"dataframe\">\n",
              "  <thead>\n",
              "    <tr style=\"text-align: right;\">\n",
              "      <th></th>\n",
              "      <th>revolutions</th>\n",
              "      <th>humidity</th>\n",
              "      <th>vibration</th>\n",
              "      <th>x1</th>\n",
              "      <th>x2</th>\n",
              "      <th>x3</th>\n",
              "      <th>x4</th>\n",
              "      <th>x5</th>\n",
              "    </tr>\n",
              "  </thead>\n",
              "  <tbody>\n",
              "    <tr>\n",
              "      <th>revolutions</th>\n",
              "      <td>1.000</td>\n",
              "      <td>-0.101</td>\n",
              "      <td>-0.110</td>\n",
              "      <td>0.999</td>\n",
              "      <td>0.999</td>\n",
              "      <td>1.000</td>\n",
              "      <td>0.983</td>\n",
              "      <td>-0.099</td>\n",
              "    </tr>\n",
              "    <tr>\n",
              "      <th>humidity</th>\n",
              "      <td>-0.101</td>\n",
              "      <td>1.000</td>\n",
              "      <td>0.137</td>\n",
              "      <td>-0.066</td>\n",
              "      <td>-0.137</td>\n",
              "      <td>-0.129</td>\n",
              "      <td>-0.208</td>\n",
              "      <td>1.000</td>\n",
              "    </tr>\n",
              "    <tr>\n",
              "      <th>vibration</th>\n",
              "      <td>-0.110</td>\n",
              "      <td>0.137</td>\n",
              "      <td>1.000</td>\n",
              "      <td>-0.106</td>\n",
              "      <td>-0.115</td>\n",
              "      <td>-0.113</td>\n",
              "      <td>-0.138</td>\n",
              "      <td>0.138</td>\n",
              "    </tr>\n",
              "    <tr>\n",
              "      <th>x1</th>\n",
              "      <td>0.999</td>\n",
              "      <td>-0.066</td>\n",
              "      <td>-0.106</td>\n",
              "      <td>1.000</td>\n",
              "      <td>0.997</td>\n",
              "      <td>0.998</td>\n",
              "      <td>0.978</td>\n",
              "      <td>-0.063</td>\n",
              "    </tr>\n",
              "    <tr>\n",
              "      <th>x2</th>\n",
              "      <td>0.999</td>\n",
              "      <td>-0.137</td>\n",
              "      <td>-0.115</td>\n",
              "      <td>0.997</td>\n",
              "      <td>1.000</td>\n",
              "      <td>1.000</td>\n",
              "      <td>0.986</td>\n",
              "      <td>-0.134</td>\n",
              "    </tr>\n",
              "    <tr>\n",
              "      <th>x3</th>\n",
              "      <td>1.000</td>\n",
              "      <td>-0.129</td>\n",
              "      <td>-0.113</td>\n",
              "      <td>0.998</td>\n",
              "      <td>1.000</td>\n",
              "      <td>1.000</td>\n",
              "      <td>0.985</td>\n",
              "      <td>-0.126</td>\n",
              "    </tr>\n",
              "    <tr>\n",
              "      <th>x4</th>\n",
              "      <td>0.983</td>\n",
              "      <td>-0.208</td>\n",
              "      <td>-0.138</td>\n",
              "      <td>0.978</td>\n",
              "      <td>0.986</td>\n",
              "      <td>0.985</td>\n",
              "      <td>1.000</td>\n",
              "      <td>-0.205</td>\n",
              "    </tr>\n",
              "    <tr>\n",
              "      <th>x5</th>\n",
              "      <td>-0.099</td>\n",
              "      <td>1.000</td>\n",
              "      <td>0.138</td>\n",
              "      <td>-0.063</td>\n",
              "      <td>-0.134</td>\n",
              "      <td>-0.126</td>\n",
              "      <td>-0.205</td>\n",
              "      <td>1.000</td>\n",
              "    </tr>\n",
              "  </tbody>\n",
              "</table>\n",
              "</div>\n",
              "      <button class=\"colab-df-convert\" onclick=\"convertToInteractive('df-eef46ab6-e685-467d-b79b-f5a09c29cee6')\"\n",
              "              title=\"Convert this dataframe to an interactive table.\"\n",
              "              style=\"display:none;\">\n",
              "        \n",
              "  <svg xmlns=\"http://www.w3.org/2000/svg\" height=\"24px\"viewBox=\"0 0 24 24\"\n",
              "       width=\"24px\">\n",
              "    <path d=\"M0 0h24v24H0V0z\" fill=\"none\"/>\n",
              "    <path d=\"M18.56 5.44l.94 2.06.94-2.06 2.06-.94-2.06-.94-.94-2.06-.94 2.06-2.06.94zm-11 1L8.5 8.5l.94-2.06 2.06-.94-2.06-.94L8.5 2.5l-.94 2.06-2.06.94zm10 10l.94 2.06.94-2.06 2.06-.94-2.06-.94-.94-2.06-.94 2.06-2.06.94z\"/><path d=\"M17.41 7.96l-1.37-1.37c-.4-.4-.92-.59-1.43-.59-.52 0-1.04.2-1.43.59L10.3 9.45l-7.72 7.72c-.78.78-.78 2.05 0 2.83L4 21.41c.39.39.9.59 1.41.59.51 0 1.02-.2 1.41-.59l7.78-7.78 2.81-2.81c.8-.78.8-2.07 0-2.86zM5.41 20L4 18.59l7.72-7.72 1.47 1.35L5.41 20z\"/>\n",
              "  </svg>\n",
              "      </button>\n",
              "      \n",
              "  <style>\n",
              "    .colab-df-container {\n",
              "      display:flex;\n",
              "      flex-wrap:wrap;\n",
              "      gap: 12px;\n",
              "    }\n",
              "\n",
              "    .colab-df-convert {\n",
              "      background-color: #E8F0FE;\n",
              "      border: none;\n",
              "      border-radius: 50%;\n",
              "      cursor: pointer;\n",
              "      display: none;\n",
              "      fill: #1967D2;\n",
              "      height: 32px;\n",
              "      padding: 0 0 0 0;\n",
              "      width: 32px;\n",
              "    }\n",
              "\n",
              "    .colab-df-convert:hover {\n",
              "      background-color: #E2EBFA;\n",
              "      box-shadow: 0px 1px 2px rgba(60, 64, 67, 0.3), 0px 1px 3px 1px rgba(60, 64, 67, 0.15);\n",
              "      fill: #174EA6;\n",
              "    }\n",
              "\n",
              "    [theme=dark] .colab-df-convert {\n",
              "      background-color: #3B4455;\n",
              "      fill: #D2E3FC;\n",
              "    }\n",
              "\n",
              "    [theme=dark] .colab-df-convert:hover {\n",
              "      background-color: #434B5C;\n",
              "      box-shadow: 0px 1px 3px 1px rgba(0, 0, 0, 0.15);\n",
              "      filter: drop-shadow(0px 1px 2px rgba(0, 0, 0, 0.3));\n",
              "      fill: #FFFFFF;\n",
              "    }\n",
              "  </style>\n",
              "\n",
              "      <script>\n",
              "        const buttonEl =\n",
              "          document.querySelector('#df-eef46ab6-e685-467d-b79b-f5a09c29cee6 button.colab-df-convert');\n",
              "        buttonEl.style.display =\n",
              "          google.colab.kernel.accessAllowed ? 'block' : 'none';\n",
              "\n",
              "        async function convertToInteractive(key) {\n",
              "          const element = document.querySelector('#df-eef46ab6-e685-467d-b79b-f5a09c29cee6');\n",
              "          const dataTable =\n",
              "            await google.colab.kernel.invokeFunction('convertToInteractive',\n",
              "                                                     [key], {});\n",
              "          if (!dataTable) return;\n",
              "\n",
              "          const docLinkHtml = 'Like what you see? Visit the ' +\n",
              "            '<a target=\"_blank\" href=https://colab.research.google.com/notebooks/data_table.ipynb>data table notebook</a>'\n",
              "            + ' to learn more about interactive tables.';\n",
              "          element.innerHTML = '';\n",
              "          dataTable['output_type'] = 'display_data';\n",
              "          await google.colab.output.renderOutput(dataTable, element);\n",
              "          const docLink = document.createElement('div');\n",
              "          docLink.innerHTML = docLinkHtml;\n",
              "          element.appendChild(docLink);\n",
              "        }\n",
              "      </script>\n",
              "    </div>\n",
              "  </div>\n",
              "  "
            ]
          },
          "metadata": {},
          "execution_count": 208
        }
      ]
    },
    {
      "cell_type": "code",
      "source": [
        "fig, ax = plt.subplots(nrows=8, sharex=True)\n",
        "fig.set_size_inches(22, 16)\n",
        "\n",
        "ax[0].plot('revolutions', data=df)\n",
        "ax[0].set_ylabel('revolutions')\n",
        "\n",
        "ax[1].plot('humidity', data=df)\n",
        "ax[1].set_ylabel('humidity')\n",
        "\n",
        "ax[2].plot('vibration', data=df)\n",
        "ax[2].set_ylabel('vibration')\n",
        "\n",
        "ax[3].plot('x1', data=df)\n",
        "ax[3].set_ylabel('x1')\n",
        "\n",
        "ax[4].plot('x2', data=df)\n",
        "ax[4].set_ylabel('x2')\n",
        "\n",
        "ax[5].plot('x3', data=df)\n",
        "ax[5].set_ylabel('x3')\n",
        "\n",
        "ax[6].plot('x4', data=df)\n",
        "ax[6].set_ylabel('x4')\n",
        "\n",
        "ax[7].plot('x5', data=df)\n",
        "ax[7].set_ylabel('x5')\n",
        "ax[7].tick_params(axis='x', rotation=45)"
      ],
      "metadata": {
        "colab": {
          "base_uri": "https://localhost:8080/",
          "height": 944
        },
        "id": "EzTXqKeBRy-1",
        "outputId": "e88553c8-c660-48b5-941e-0f989390fb8e"
      },
      "execution_count": 209,
      "outputs": [
        {
          "output_type": "display_data",
          "data": {
            "text/plain": [
              "<Figure size 1584x1152 with 8 Axes>"
            ],
            "image/png": "[encoded data removed]"
          },
          "metadata": {
            "needs_background": "light"
          }
        }
      ]
    },
    {
      "cell_type": "markdown",
      "source": [
        "# Treino e teste"
      ],
      "metadata": {
        "id": "Q5ntTuYqmCl3"
      }
    },
    {
      "cell_type": "markdown",
      "source": [
        "## ['humidity', 'x1']"
      ],
      "metadata": {
        "id": "vC6j2pK6mCl3"
      }
    },
    {
      "cell_type": "code",
      "source": [
        "y = df['vibration']\n",
        "\n",
        "X = df[['humidity', 'x1']]\n",
        "\n",
        "X_train, X_test, y_train, y_test = train_test_split(X,\n",
        "                                                    y,\n",
        "                                                    test_size=0.3)"
      ],
      "metadata": {
        "id": "tV3XfqmDmCl3"
      },
      "execution_count": 210,
      "outputs": []
    },
    {
      "cell_type": "markdown",
      "source": [
        "## Modeo de regressão"
      ],
      "metadata": {
        "id": "KMxNOZ3ImCl4"
      }
    },
    {
      "cell_type": "code",
      "source": [
        "modelo = LinearRegression()\n",
        "\n",
        "modelo.fit(X_train, y_train)"
      ],
      "metadata": {
        "colab": {
          "base_uri": "https://localhost:8080/"
        },
        "outputId": "125890b2-d27b-4bed-ae45-f02881d43360",
        "id": "QM1NBobamCl4"
      },
      "execution_count": 211,
      "outputs": [
        {
          "output_type": "execute_result",
          "data": {
            "text/plain": [
              "LinearRegression()"
            ]
          },
          "metadata": {},
          "execution_count": 211
        }
      ]
    },
    {
      "cell_type": "code",
      "source": [
        "y_pred = modelo.predict(X_test)"
      ],
      "metadata": {
        "id": "itURboW2mCl4"
      },
      "execution_count": 212,
      "outputs": []
    },
    {
      "cell_type": "markdown",
      "source": [
        "# Dataset com previsões"
      ],
      "metadata": {
        "id": "ov2a8S5SmCl4"
      }
    },
    {
      "cell_type": "code",
      "source": [
        "df['pred_vibr_x1'] = modelo.predict(df[['humidity', 'x1']])"
      ],
      "metadata": {
        "id": "7h1jTEmtmCl4"
      },
      "execution_count": 213,
      "outputs": []
    },
    {
      "cell_type": "markdown",
      "source": [
        "### Acurácia"
      ],
      "metadata": {
        "id": "rLuJnyWdmCl5"
      }
    },
    {
      "cell_type": "code",
      "source": [
        "r_squared_x1 = r2_score(y_test, y_pred)\n",
        "\n",
        "r_squared_x1"
      ],
      "metadata": {
        "colab": {
          "base_uri": "https://localhost:8080/"
        },
        "outputId": "04071ab1-84e4-4f5e-a301-b56ae9fd0f27",
        "id": "N0C18EO3mCl5"
      },
      "execution_count": 214,
      "outputs": [
        {
          "output_type": "execute_result",
          "data": {
            "text/plain": [
              "0.02693679187299103"
            ]
          },
          "metadata": {},
          "execution_count": 214
        }
      ]
    },
    {
      "cell_type": "code",
      "source": [
        "rmse_x1 = sqrt(mean_squared_error(y_test, y_pred))\n",
        "\n",
        "rmse_x1"
      ],
      "metadata": {
        "colab": {
          "base_uri": "https://localhost:8080/"
        },
        "outputId": "edfadcc8-8d2a-4259-a730-fdd2dbcf12e5",
        "id": "simHgfsAmCl5"
      },
      "execution_count": 215,
      "outputs": [
        {
          "output_type": "execute_result",
          "data": {
            "text/plain": [
              "24.19824242792091"
            ]
          },
          "metadata": {},
          "execution_count": 215
        }
      ]
    },
    {
      "cell_type": "code",
      "source": [
        "mae_x1 = mean_absolute_error(y_test, y_pred)\n",
        "\n",
        "mae_x1"
      ],
      "metadata": {
        "colab": {
          "base_uri": "https://localhost:8080/"
        },
        "outputId": "4ab3595c-986e-45a1-9d15-2665455b9d9e",
        "id": "jlkPfzQMmCl5"
      },
      "execution_count": 216,
      "outputs": [
        {
          "output_type": "execute_result",
          "data": {
            "text/plain": [
              "19.69623269017851"
            ]
          },
          "metadata": {},
          "execution_count": 216
        }
      ]
    },
    {
      "cell_type": "markdown",
      "source": [
        "# Treino e teste"
      ],
      "metadata": {
        "id": "nuui9pb2pVej"
      }
    },
    {
      "cell_type": "markdown",
      "source": [
        "## ['humidity', 'x2']"
      ],
      "metadata": {
        "id": "aKzwxTv4pVek"
      }
    },
    {
      "cell_type": "code",
      "source": [
        "y = df['vibration']\n",
        "\n",
        "X = df[['humidity', 'x2']]\n",
        "\n",
        "X_train, X_test, y_train, y_test = train_test_split(X,\n",
        "                                                    y,\n",
        "                                                    test_size=0.3)"
      ],
      "metadata": {
        "id": "ZL7KiBDopVek"
      },
      "execution_count": 217,
      "outputs": []
    },
    {
      "cell_type": "markdown",
      "source": [
        "## Modeo de regressão"
      ],
      "metadata": {
        "id": "mrRqgco8pVek"
      }
    },
    {
      "cell_type": "code",
      "source": [
        "modelo = LinearRegression()\n",
        "\n",
        "modelo.fit(X_train, y_train)"
      ],
      "metadata": {
        "colab": {
          "base_uri": "https://localhost:8080/"
        },
        "outputId": "bb625e01-7d4e-4cda-f772-685d4b7259d5",
        "id": "1n4cdAO5pVek"
      },
      "execution_count": 218,
      "outputs": [
        {
          "output_type": "execute_result",
          "data": {
            "text/plain": [
              "LinearRegression()"
            ]
          },
          "metadata": {},
          "execution_count": 218
        }
      ]
    },
    {
      "cell_type": "code",
      "source": [
        "y_pred = modelo.predict(X_test)"
      ],
      "metadata": {
        "id": "4CLExoZGpVek"
      },
      "execution_count": 219,
      "outputs": []
    },
    {
      "cell_type": "markdown",
      "source": [
        "# Dataset com previsões"
      ],
      "metadata": {
        "id": "MEJkgSjppVek"
      }
    },
    {
      "cell_type": "code",
      "source": [
        "df['pred_vibr_x2'] = modelo.predict(df[['humidity', 'x2']])"
      ],
      "metadata": {
        "id": "psNnKb8-pVek"
      },
      "execution_count": 220,
      "outputs": []
    },
    {
      "cell_type": "markdown",
      "source": [
        "### Acurácia"
      ],
      "metadata": {
        "id": "x2HLOwumpVel"
      }
    },
    {
      "cell_type": "code",
      "source": [
        "r_squared_x2 = r2_score(y_test, y_pred)\n",
        "\n",
        "r_squared_x2"
      ],
      "metadata": {
        "colab": {
          "base_uri": "https://localhost:8080/"
        },
        "outputId": "98ff61bb-1467-4b1e-968b-91743ad8769a",
        "id": "kF7UqTNJpVel"
      },
      "execution_count": 221,
      "outputs": [
        {
          "output_type": "execute_result",
          "data": {
            "text/plain": [
              "0.028266975340019096"
            ]
          },
          "metadata": {},
          "execution_count": 221
        }
      ]
    },
    {
      "cell_type": "code",
      "source": [
        "rmse_x2 = sqrt(mean_squared_error(y_test, y_pred))\n",
        "\n",
        "rmse_x2"
      ],
      "metadata": {
        "colab": {
          "base_uri": "https://localhost:8080/"
        },
        "outputId": "11cb5371-58fe-456b-b1db-9fb71337a369",
        "id": "dcmq9J8PpVel"
      },
      "execution_count": 222,
      "outputs": [
        {
          "output_type": "execute_result",
          "data": {
            "text/plain": [
              "24.19858906662233"
            ]
          },
          "metadata": {},
          "execution_count": 222
        }
      ]
    },
    {
      "cell_type": "code",
      "source": [
        "mae_x2 = mean_absolute_error(y_test, y_pred)\n",
        "\n",
        "mae_x2"
      ],
      "metadata": {
        "colab": {
          "base_uri": "https://localhost:8080/"
        },
        "outputId": "608b5363-62a5-4643-d370-224c1c70d90f",
        "id": "UYxWJ72spVel"
      },
      "execution_count": 223,
      "outputs": [
        {
          "output_type": "execute_result",
          "data": {
            "text/plain": [
              "19.617907914913733"
            ]
          },
          "metadata": {},
          "execution_count": 223
        }
      ]
    },
    {
      "cell_type": "markdown",
      "source": [
        "# Treino e teste"
      ],
      "metadata": {
        "id": "Nps72hNUqGDj"
      }
    },
    {
      "cell_type": "markdown",
      "source": [
        "## ['humidity', 'x3']"
      ],
      "metadata": {
        "id": "4WGC6xQ-qGDj"
      }
    },
    {
      "cell_type": "code",
      "source": [
        "y = df['vibration']\n",
        "\n",
        "X = df[['humidity', 'x3']]\n",
        "\n",
        "X_train, X_test, y_train, y_test = train_test_split(X,\n",
        "                                                    y,\n",
        "                                                    test_size=0.3)"
      ],
      "metadata": {
        "id": "codC7AG1qGDk"
      },
      "execution_count": 224,
      "outputs": []
    },
    {
      "cell_type": "markdown",
      "source": [
        "## Modeo de regressão"
      ],
      "metadata": {
        "id": "td6ze-s5qGDk"
      }
    },
    {
      "cell_type": "code",
      "source": [
        "modelo = LinearRegression()\n",
        "\n",
        "modelo.fit(X_train, y_train)"
      ],
      "metadata": {
        "colab": {
          "base_uri": "https://localhost:8080/"
        },
        "outputId": "21184ab1-4415-4ef7-be69-e5fc40467862",
        "id": "0KaYIxuVqGDk"
      },
      "execution_count": 225,
      "outputs": [
        {
          "output_type": "execute_result",
          "data": {
            "text/plain": [
              "LinearRegression()"
            ]
          },
          "metadata": {},
          "execution_count": 225
        }
      ]
    },
    {
      "cell_type": "code",
      "source": [
        "y_pred = modelo.predict(X_test)"
      ],
      "metadata": {
        "id": "_vqvkTU7qGDk"
      },
      "execution_count": 226,
      "outputs": []
    },
    {
      "cell_type": "markdown",
      "source": [
        "# Dataset com previsões"
      ],
      "metadata": {
        "id": "1SNEHvvGqGDl"
      }
    },
    {
      "cell_type": "code",
      "source": [
        "df['pred_vibr_x3'] = modelo.predict(df[['humidity', 'x3']])"
      ],
      "metadata": {
        "id": "YFLDjDkUquf2"
      },
      "execution_count": 227,
      "outputs": []
    },
    {
      "cell_type": "markdown",
      "source": [
        "### Acurácia"
      ],
      "metadata": {
        "id": "OTTS6PcCqGDl"
      }
    },
    {
      "cell_type": "code",
      "source": [
        "r_squared_x3 = r2_score(y_test, y_pred)\n",
        "\n",
        "r_squared_x3"
      ],
      "metadata": {
        "colab": {
          "base_uri": "https://localhost:8080/"
        },
        "outputId": "f9190023-0b19-49be-960b-22054dd489c4",
        "id": "xTIsreeSqGDl"
      },
      "execution_count": 228,
      "outputs": [
        {
          "output_type": "execute_result",
          "data": {
            "text/plain": [
              "0.028693376596019782"
            ]
          },
          "metadata": {},
          "execution_count": 228
        }
      ]
    },
    {
      "cell_type": "code",
      "source": [
        "rmse_x3 = sqrt(mean_squared_error(y_test, y_pred))\n",
        "\n",
        "rmse_x3"
      ],
      "metadata": {
        "colab": {
          "base_uri": "https://localhost:8080/"
        },
        "outputId": "ab83b53c-a4ea-4659-a2b3-cd964b5d35a4",
        "id": "iUX2qV0nqGDl"
      },
      "execution_count": 229,
      "outputs": [
        {
          "output_type": "execute_result",
          "data": {
            "text/plain": [
              "24.21885996181508"
            ]
          },
          "metadata": {},
          "execution_count": 229
        }
      ]
    },
    {
      "cell_type": "code",
      "source": [
        "mae_x3 = mean_absolute_error(y_test, y_pred)\n",
        "\n",
        "mae_x3"
      ],
      "metadata": {
        "colab": {
          "base_uri": "https://localhost:8080/"
        },
        "outputId": "90884d5c-5a61-4d51-ca29-473d60108d1f",
        "id": "I8X8-_lwqGDl"
      },
      "execution_count": 230,
      "outputs": [
        {
          "output_type": "execute_result",
          "data": {
            "text/plain": [
              "19.639005649004677"
            ]
          },
          "metadata": {},
          "execution_count": 230
        }
      ]
    },
    {
      "cell_type": "markdown",
      "source": [
        "# Treino e teste"
      ],
      "metadata": {
        "id": "nbj7xpKtqH0N"
      }
    },
    {
      "cell_type": "markdown",
      "source": [
        "## ['humidity', 'x4']"
      ],
      "metadata": {
        "id": "lG4ovYfiqH0O"
      }
    },
    {
      "cell_type": "code",
      "source": [
        "y = df['vibration']\n",
        "\n",
        "X = df[['humidity', 'x4']]\n",
        "\n",
        "X_train, X_test, y_train, y_test = train_test_split(X,\n",
        "                                                    y,\n",
        "                                                    test_size=0.3)"
      ],
      "metadata": {
        "id": "_I_Nl8nQqH0O"
      },
      "execution_count": 231,
      "outputs": []
    },
    {
      "cell_type": "markdown",
      "source": [
        "## Modeo de regressão"
      ],
      "metadata": {
        "id": "4xtSvNGJqH0O"
      }
    },
    {
      "cell_type": "code",
      "source": [
        "modelo = LinearRegression()\n",
        "\n",
        "modelo.fit(X_train, y_train)"
      ],
      "metadata": {
        "colab": {
          "base_uri": "https://localhost:8080/"
        },
        "outputId": "9120f7b9-e871-49d2-b20c-26cc0dddad3e",
        "id": "nABk2yvZqH0O"
      },
      "execution_count": 232,
      "outputs": [
        {
          "output_type": "execute_result",
          "data": {
            "text/plain": [
              "LinearRegression()"
            ]
          },
          "metadata": {},
          "execution_count": 232
        }
      ]
    },
    {
      "cell_type": "code",
      "source": [
        "y_pred = modelo.predict(X_test)"
      ],
      "metadata": {
        "id": "Unc5NlcuqH0O"
      },
      "execution_count": 233,
      "outputs": []
    },
    {
      "cell_type": "markdown",
      "source": [
        "# Dataset com previsões"
      ],
      "metadata": {
        "id": "k-8Bjv2dqH0P"
      }
    },
    {
      "cell_type": "code",
      "source": [
        "df['pred_vibr_x4'] = modelo.predict(df[['humidity', 'x4']])"
      ],
      "metadata": {
        "id": "j0nugdG4qxEA"
      },
      "execution_count": 234,
      "outputs": []
    },
    {
      "cell_type": "markdown",
      "source": [
        "### Acurácia"
      ],
      "metadata": {
        "id": "49Hm2cdXqH0P"
      }
    },
    {
      "cell_type": "code",
      "source": [
        "r_squared_x4 = r2_score(y_test, y_pred)\n",
        "\n",
        "r_squared_x4"
      ],
      "metadata": {
        "colab": {
          "base_uri": "https://localhost:8080/"
        },
        "outputId": "95b66b15-6ae1-4a34-fbf5-9221f986070c",
        "id": "zbyRFUgYqH0P"
      },
      "execution_count": 235,
      "outputs": [
        {
          "output_type": "execute_result",
          "data": {
            "text/plain": [
              "0.03151916470808924"
            ]
          },
          "metadata": {},
          "execution_count": 235
        }
      ]
    },
    {
      "cell_type": "code",
      "source": [
        "rmse_x4 = sqrt(mean_squared_error(y_test, y_pred))\n",
        "\n",
        "rmse_x4"
      ],
      "metadata": {
        "colab": {
          "base_uri": "https://localhost:8080/"
        },
        "outputId": "a1c5c5f1-6ca4-4d9c-f4b3-ad84b411e02a",
        "id": "Nz89v15JqH0P"
      },
      "execution_count": 236,
      "outputs": [
        {
          "output_type": "execute_result",
          "data": {
            "text/plain": [
              "24.13383288026449"
            ]
          },
          "metadata": {},
          "execution_count": 236
        }
      ]
    },
    {
      "cell_type": "code",
      "source": [
        "mae_x4 = mean_absolute_error(y_test, y_pred)\n",
        "\n",
        "mae_x4"
      ],
      "metadata": {
        "colab": {
          "base_uri": "https://localhost:8080/"
        },
        "outputId": "8d6eab3d-6961-4fd9-a034-b4ae2a04dce6",
        "id": "F61q8vHCqH0P"
      },
      "execution_count": 237,
      "outputs": [
        {
          "output_type": "execute_result",
          "data": {
            "text/plain": [
              "19.580142627798274"
            ]
          },
          "metadata": {},
          "execution_count": 237
        }
      ]
    },
    {
      "cell_type": "markdown",
      "source": [
        "# Treino e teste"
      ],
      "metadata": {
        "id": "w6JLfUlM9uzw"
      }
    },
    {
      "cell_type": "markdown",
      "source": [
        "## ['revolutions', 'x5']"
      ],
      "metadata": {
        "id": "gojrClQRMrzg"
      }
    },
    {
      "cell_type": "code",
      "source": [
        "y = df['vibration']\n",
        "\n",
        "X = df[['revolutions', 'x5']]\n",
        "\n",
        "X_train, X_test, y_train, y_test = train_test_split(X,\n",
        "                                                    y,\n",
        "                                                    test_size=0.3)"
      ],
      "metadata": {
        "id": "fJ_NXexQ9t3Y"
      },
      "execution_count": 238,
      "outputs": []
    },
    {
      "cell_type": "markdown",
      "source": [
        "## Modeo de regressão"
      ],
      "metadata": {
        "id": "7FDLg9CvTISs"
      }
    },
    {
      "cell_type": "code",
      "source": [
        "modelo = LinearRegression()\n",
        "\n",
        "modelo.fit(X_train, y_train)"
      ],
      "metadata": {
        "colab": {
          "base_uri": "https://localhost:8080/"
        },
        "id": "rlCgk95AMe_X",
        "outputId": "0288e8b6-edbf-43b9-fa81-476c1342b24a"
      },
      "execution_count": 239,
      "outputs": [
        {
          "output_type": "execute_result",
          "data": {
            "text/plain": [
              "LinearRegression()"
            ]
          },
          "metadata": {},
          "execution_count": 239
        }
      ]
    },
    {
      "cell_type": "code",
      "source": [
        "y_pred = modelo.predict(X_test)"
      ],
      "metadata": {
        "id": "wAuaF27pWn3k"
      },
      "execution_count": 240,
      "outputs": []
    },
    {
      "cell_type": "markdown",
      "source": [
        "# Dataset com previsões"
      ],
      "metadata": {
        "id": "uqPkj-hDjbI2"
      }
    },
    {
      "cell_type": "code",
      "source": [
        "df['pred_vibr_x5'] = modelo.predict(df[['revolutions', 'x5']])"
      ],
      "metadata": {
        "id": "s6AqJOJyqzGV"
      },
      "execution_count": 241,
      "outputs": []
    },
    {
      "cell_type": "markdown",
      "source": [
        "### Acurácia"
      ],
      "metadata": {
        "id": "NyNFXCpXZDjw"
      }
    },
    {
      "cell_type": "code",
      "source": [
        "r_squared_x5 = r2_score(y_test, y_pred)\n",
        "\n",
        "r_squared_x5"
      ],
      "metadata": {
        "colab": {
          "base_uri": "https://localhost:8080/"
        },
        "id": "xXYuk_jfTwG-",
        "outputId": "1fa4dc55-5346-465b-aa8e-8c22b347891f"
      },
      "execution_count": 242,
      "outputs": [
        {
          "output_type": "execute_result",
          "data": {
            "text/plain": [
              "0.027363163004687552"
            ]
          },
          "metadata": {},
          "execution_count": 242
        }
      ]
    },
    {
      "cell_type": "code",
      "source": [
        "rmse_x5 = sqrt(mean_squared_error(y_test, y_pred))\n",
        "\n",
        "rmse_x5"
      ],
      "metadata": {
        "colab": {
          "base_uri": "https://localhost:8080/"
        },
        "id": "M2IUbYo2Y_v4",
        "outputId": "bd45ba81-4431-4da9-c8b8-ac48f2666725"
      },
      "execution_count": 243,
      "outputs": [
        {
          "output_type": "execute_result",
          "data": {
            "text/plain": [
              "24.102602589754937"
            ]
          },
          "metadata": {},
          "execution_count": 243
        }
      ]
    },
    {
      "cell_type": "code",
      "source": [
        "mae_x5 = mean_absolute_error(y_test, y_pred)\n",
        "\n",
        "mae_x5"
      ],
      "metadata": {
        "colab": {
          "base_uri": "https://localhost:8080/"
        },
        "id": "Fz92tB-xZIPw",
        "outputId": "43dd2ae6-6525-4a4b-c19c-4bf89545cbc4"
      },
      "execution_count": 244,
      "outputs": [
        {
          "output_type": "execute_result",
          "data": {
            "text/plain": [
              "19.609812512809047"
            ]
          },
          "metadata": {},
          "execution_count": 244
        }
      ]
    },
    {
      "cell_type": "markdown",
      "source": [
        "# Comparativo"
      ],
      "metadata": {
        "id": "NnS9fzvNqd6m"
      }
    },
    {
      "cell_type": "code",
      "source": [
        "fig, ax = plt.subplots(nrows=6, sharex=True)\n",
        "fig.set_size_inches(22, 16)\n",
        "\n",
        "ax[0].plot('vibration', data=df, color='green')\n",
        "ax[0].set_ylabel('vibration')\n",
        "\n",
        "ax[1].plot('pred_vibr_x1', data=df)\n",
        "ax[1].set_ylabel('pred_vibr_x1')\n",
        "\n",
        "ax[2].plot('pred_vibr_x2', data=df)\n",
        "ax[2].set_ylabel('pred_vibr_x2')\n",
        "\n",
        "ax[3].plot('pred_vibr_x3', data=df)\n",
        "ax[3].set_ylabel('pred_vibr_x3')\n",
        "\n",
        "ax[4].plot('pred_vibr_x4', data=df)\n",
        "ax[4].set_ylabel('pred_vibr_x4')\n",
        "\n",
        "ax[5].plot('pred_vibr_x5', data=df)\n",
        "ax[5].set_ylabel('pred_vibr_x5')\n",
        "ax[5].tick_params(axis='x', rotation=45)"
      ],
      "metadata": {
        "colab": {
          "base_uri": "https://localhost:8080/",
          "height": 946
        },
        "id": "y6_RN4deqe3T",
        "outputId": "669197ec-c2c8-4061-ae6f-f443c49993aa"
      },
      "execution_count": 245,
      "outputs": [
        {
          "output_type": "display_data",
          "data": {
            "text/plain": [
              "<Figure size 1584x1152 with 6 Axes>"
            ],
            "image/png": "[encoded data removed]"
          },
          "metadata": {
            "needs_background": "light"
          }
        }
      ]
    },
    {
      "cell_type": "markdown",
      "source": [
        "# Dataset acurácia"
      ],
      "metadata": {
        "id": "YXOJX96wBBQf"
      }
    },
    {
      "cell_type": "code",
      "source": [
        "d = {'rmse': [rmse_x1, rmse_x2, rmse_x3, rmse_x4, rmse_x5],\n",
        "     'mae': [mae_x1, mae_x2, mae_x3, mae_x4, mae_x5],\n",
        "     'r_squared': [r_squared_x1, r_squared_x2, r_squared_x3, r_squared_x4, r_squared_x5]}\n",
        "\n",
        "index = ['pred_x1', 'pred_x2', 'pred_x3', 'pred_x4', 'pred_x5']"
      ],
      "metadata": {
        "id": "BOeJQkJ_BxoG"
      },
      "execution_count": 246,
      "outputs": []
    },
    {
      "cell_type": "code",
      "source": [
        "df_score = pd.DataFrame(data=d,\n",
        "                        index=index)"
      ],
      "metadata": {
        "id": "c9CRjaTXEJu7"
      },
      "execution_count": 247,
      "outputs": []
    },
    {
      "cell_type": "code",
      "source": [
        "df_score"
      ],
      "metadata": {
        "colab": {
          "base_uri": "https://localhost:8080/",
          "height": 206
        },
        "id": "iuv12tgsESZ9",
        "outputId": "b2898896-c708-4eac-95c2-70096a2339d4"
      },
      "execution_count": 248,
      "outputs": [
        {
          "output_type": "execute_result",
          "data": {
            "text/plain": [
              "              rmse        mae  r_squared\n",
              "pred_x1  24.198242  19.696233   0.026937\n",
              "pred_x2  24.198589  19.617908   0.028267\n",
              "pred_x3  24.218860  19.639006   0.028693\n",
              "pred_x4  24.133833  19.580143   0.031519\n",
              "pred_x5  24.102603  19.609813   0.027363"
            ],
            "text/html": [
              "\n",
              "  <div id=\"df-8468d45a-6eb6-4d94-8db7-6f267ee5bf08\">\n",
              "    <div class=\"colab-df-container\">\n",
              "      <div>\n",
              "<style scoped>\n",
              "    .dataframe tbody tr th:only-of-type {\n",
              "        vertical-align: middle;\n",
              "    }\n",
              "\n",
              "    .dataframe tbody tr th {\n",
              "        vertical-align: top;\n",
              "    }\n",
              "\n",
              "    .dataframe thead th {\n",
              "        text-align: right;\n",
              "    }\n",
              "</style>\n",
              "<table border=\"1\" class=\"dataframe\">\n",
              "  <thead>\n",
              "    <tr style=\"text-align: right;\">\n",
              "      <th></th>\n",
              "      <th>rmse</th>\n",
              "      <th>mae</th>\n",
              "      <th>r_squared</th>\n",
              "    </tr>\n",
              "  </thead>\n",
              "  <tbody>\n",
              "    <tr>\n",
              "      <th>pred_x1</th>\n",
              "      <td>24.198242</td>\n",
              "      <td>19.696233</td>\n",
              "      <td>0.026937</td>\n",
              "    </tr>\n",
              "    <tr>\n",
              "      <th>pred_x2</th>\n",
              "      <td>24.198589</td>\n",
              "      <td>19.617908</td>\n",
              "      <td>0.028267</td>\n",
              "    </tr>\n",
              "    <tr>\n",
              "      <th>pred_x3</th>\n",
              "      <td>24.218860</td>\n",
              "      <td>19.639006</td>\n",
              "      <td>0.028693</td>\n",
              "    </tr>\n",
              "    <tr>\n",
              "      <th>pred_x4</th>\n",
              "      <td>24.133833</td>\n",
              "      <td>19.580143</td>\n",
              "      <td>0.031519</td>\n",
              "    </tr>\n",
              "    <tr>\n",
              "      <th>pred_x5</th>\n",
              "      <td>24.102603</td>\n",
              "      <td>19.609813</td>\n",
              "      <td>0.027363</td>\n",
              "    </tr>\n",
              "  </tbody>\n",
              "</table>\n",
              "</div>\n",
              "      <button class=\"colab-df-convert\" onclick=\"convertToInteractive('df-8468d45a-6eb6-4d94-8db7-6f267ee5bf08')\"\n",
              "              title=\"Convert this dataframe to an interactive table.\"\n",
              "              style=\"display:none;\">\n",
              "        \n",
              "  <svg xmlns=\"http://www.w3.org/2000/svg\" height=\"24px\"viewBox=\"0 0 24 24\"\n",
              "       width=\"24px\">\n",
              "    <path d=\"M0 0h24v24H0V0z\" fill=\"none\"/>\n",
              "    <path d=\"M18.56 5.44l.94 2.06.94-2.06 2.06-.94-2.06-.94-.94-2.06-.94 2.06-2.06.94zm-11 1L8.5 8.5l.94-2.06 2.06-.94-2.06-.94L8.5 2.5l-.94 2.06-2.06.94zm10 10l.94 2.06.94-2.06 2.06-.94-2.06-.94-.94-2.06-.94 2.06-2.06.94z\"/><path d=\"M17.41 7.96l-1.37-1.37c-.4-.4-.92-.59-1.43-.59-.52 0-1.04.2-1.43.59L10.3 9.45l-7.72 7.72c-.78.78-.78 2.05 0 2.83L4 21.41c.39.39.9.59 1.41.59.51 0 1.02-.2 1.41-.59l7.78-7.78 2.81-2.81c.8-.78.8-2.07 0-2.86zM5.41 20L4 18.59l7.72-7.72 1.47 1.35L5.41 20z\"/>\n",
              "  </svg>\n",
              "      </button>\n",
              "      \n",
              "  <style>\n",
              "    .colab-df-container {\n",
              "      display:flex;\n",
              "      flex-wrap:wrap;\n",
              "      gap: 12px;\n",
              "    }\n",
              "\n",
              "    .colab-df-convert {\n",
              "      background-color: #E8F0FE;\n",
              "      border: none;\n",
              "      border-radius: 50%;\n",
              "      cursor: pointer;\n",
              "      display: none;\n",
              "      fill: #1967D2;\n",
              "      height: 32px;\n",
              "      padding: 0 0 0 0;\n",
              "      width: 32px;\n",
              "    }\n",
              "\n",
              "    .colab-df-convert:hover {\n",
              "      background-color: #E2EBFA;\n",
              "      box-shadow: 0px 1px 2px rgba(60, 64, 67, 0.3), 0px 1px 3px 1px rgba(60, 64, 67, 0.15);\n",
              "      fill: #174EA6;\n",
              "    }\n",
              "\n",
              "    [theme=dark] .colab-df-convert {\n",
              "      background-color: #3B4455;\n",
              "      fill: #D2E3FC;\n",
              "    }\n",
              "\n",
              "    [theme=dark] .colab-df-convert:hover {\n",
              "      background-color: #434B5C;\n",
              "      box-shadow: 0px 1px 3px 1px rgba(0, 0, 0, 0.15);\n",
              "      filter: drop-shadow(0px 1px 2px rgba(0, 0, 0, 0.3));\n",
              "      fill: #FFFFFF;\n",
              "    }\n",
              "  </style>\n",
              "\n",
              "      <script>\n",
              "        const buttonEl =\n",
              "          document.querySelector('#df-8468d45a-6eb6-4d94-8db7-6f267ee5bf08 button.colab-df-convert');\n",
              "        buttonEl.style.display =\n",
              "          google.colab.kernel.accessAllowed ? 'block' : 'none';\n",
              "\n",
              "        async function convertToInteractive(key) {\n",
              "          const element = document.querySelector('#df-8468d45a-6eb6-4d94-8db7-6f267ee5bf08');\n",
              "          const dataTable =\n",
              "            await google.colab.kernel.invokeFunction('convertToInteractive',\n",
              "                                                     [key], {});\n",
              "          if (!dataTable) return;\n",
              "\n",
              "          const docLinkHtml = 'Like what you see? Visit the ' +\n",
              "            '<a target=\"_blank\" href=https://colab.research.google.com/notebooks/data_table.ipynb>data table notebook</a>'\n",
              "            + ' to learn more about interactive tables.';\n",
              "          element.innerHTML = '';\n",
              "          dataTable['output_type'] = 'display_data';\n",
              "          await google.colab.output.renderOutput(dataTable, element);\n",
              "          const docLink = document.createElement('div');\n",
              "          docLink.innerHTML = docLinkHtml;\n",
              "          element.appendChild(docLink);\n",
              "        }\n",
              "      </script>\n",
              "    </div>\n",
              "  </div>\n",
              "  "
            ]
          },
          "metadata": {},
          "execution_count": 248
        }
      ]
    },
    {
      "cell_type": "code",
      "source": [
        "df_comparative = df[['vibration',\n",
        "                     'pred_vibr_x1',\n",
        "                     'pred_vibr_x2',\n",
        "                     'pred_vibr_x3',\n",
        "                     'pred_vibr_x4',\n",
        "                     'pred_vibr_x5']].copy()"
      ],
      "metadata": {
        "id": "PU81P9W6JImY"
      },
      "execution_count": 249,
      "outputs": []
    },
    {
      "cell_type": "code",
      "source": [
        "# df_comparative['error_x1'] = df['vibration'] - df['pred_vibr_x1']\n",
        "\n",
        "# df_comparative['error_x2'] = df['vibration'] - df['pred_vibr_x2']\n",
        "\n",
        "# df_comparative['error_x3'] = df['vibration'] - df['pred_vibr_x3']\n",
        "\n",
        "# df_comparative['error_x4'] = df['vibration'] - df['pred_vibr_x4']\n",
        "\n",
        "# df_comparative['error_x5'] = df['vibration'] - df['pred_vibr_x5']"
      ],
      "metadata": {
        "id": "7R4aHEq-sT44"
      },
      "execution_count": 250,
      "outputs": []
    },
    {
      "cell_type": "code",
      "source": [
        "df_comparative.insert(2, 'error_x1', df['vibration'] - df['pred_vibr_x1'])\n",
        "\n",
        "df_comparative.insert(3, 'error_x2', df['vibration'] - df['pred_vibr_x2'])\n",
        "\n",
        "df_comparative.insert(6, 'error_x3', df['vibration'] - df['pred_vibr_x3'])\n",
        "\n",
        "df_comparative.insert(8, 'error_x4', df['vibration'] - df['pred_vibr_x4'])\n",
        "\n",
        "df_comparative.insert(10, 'error_x5', df['vibration'] - df['pred_vibr_x5'])"
      ],
      "metadata": {
        "id": "Hj0mDieos3Oi"
      },
      "execution_count": 251,
      "outputs": []
    },
    {
      "cell_type": "code",
      "source": [
        "df_comparative"
      ],
      "metadata": {
        "colab": {
          "base_uri": "https://localhost:8080/",
          "height": 467
        },
        "id": "2CmggE5ZsqUm",
        "outputId": "d482324c-36fc-48db-d677-b1692a0c42c7"
      },
      "execution_count": 252,
      "outputs": [
        {
          "output_type": "execute_result",
          "data": {
            "text/plain": [
              "                               vibration  pred_vibr_x1   error_x1   error_x2  \\\n",
              "2022-01-01 16:30:00.000000000      18.00     21.728883  -3.728883  -3.544198   \n",
              "2022-01-01 16:30:00.096428571      18.00     21.729380  -3.729380  -3.544707   \n",
              "2022-01-01 16:30:00.192857142      18.00     21.725226  -3.725226  -3.540678   \n",
              "2022-01-01 16:30:00.289285714      18.00     21.725722  -3.725722  -3.541187   \n",
              "2022-01-01 16:30:00.385714285      18.00     21.726094  -3.726094  -3.541569   \n",
              "...                                  ...           ...        ...        ...   \n",
              "2022-01-01 19:29:59.614285714       2.00     30.826472 -28.826472 -28.872058   \n",
              "2022-01-01 19:29:59.710714285      20.01     30.826472 -10.816472 -10.862058   \n",
              "2022-01-01 19:29:59.807142857      20.01     30.826597 -10.816597 -10.862185   \n",
              "2022-01-01 19:29:59.903571428      20.00     30.826597 -10.826597 -10.872185   \n",
              "2022-01-01 19:30:00.000000000       2.00     30.826721 -28.826721 -28.872312   \n",
              "\n",
              "                               pred_vibr_x2  pred_vibr_x3   error_x3  \\\n",
              "2022-01-01 16:30:00.000000000     21.544198     21.741366  -3.741366   \n",
              "2022-01-01 16:30:00.096428571     21.544707     21.741860  -3.741860   \n",
              "2022-01-01 16:30:00.192857142     21.540678     21.737758  -3.737758   \n",
              "2022-01-01 16:30:00.289285714     21.541187     21.738252  -3.738252   \n",
              "2022-01-01 16:30:00.385714285     21.541569     21.738623  -3.738623   \n",
              "...                                     ...           ...        ...   \n",
              "2022-01-01 19:29:59.614285714     30.872058     30.794552 -28.794552   \n",
              "2022-01-01 19:29:59.710714285     30.872058     30.794552 -10.784552   \n",
              "2022-01-01 19:29:59.807142857     30.872185     30.794676 -10.784676   \n",
              "2022-01-01 19:29:59.903571428     30.872185     30.794676 -10.794676   \n",
              "2022-01-01 19:30:00.000000000     30.872312     30.794799 -28.794799   \n",
              "\n",
              "                               pred_vibr_x4   error_x4  pred_vibr_x5  \\\n",
              "2022-01-01 16:30:00.000000000     18.312146  -0.312146     21.835913   \n",
              "2022-01-01 16:30:00.096428571     18.313266  -0.313266     21.836396   \n",
              "2022-01-01 16:30:00.192857142     18.310304  -0.310304     21.832161   \n",
              "2022-01-01 16:30:00.289285714     18.311424  -0.311424     21.832644   \n",
              "2022-01-01 16:30:00.385714285     18.312264  -0.312264     21.833007   \n",
              "...                                     ...        ...           ...   \n",
              "2022-01-01 19:29:59.614285714     30.800425 -28.800425     30.696954   \n",
              "2022-01-01 19:29:59.710714285     30.800425 -10.790425     30.696954   \n",
              "2022-01-01 19:29:59.807142857     30.800486 -10.790486     30.697075   \n",
              "2022-01-01 19:29:59.903571428     30.800486 -10.800486     30.697075   \n",
              "2022-01-01 19:30:00.000000000     30.800546 -28.800546     30.697196   \n",
              "\n",
              "                                error_x5  \n",
              "2022-01-01 16:30:00.000000000  -3.835913  \n",
              "2022-01-01 16:30:00.096428571  -3.836396  \n",
              "2022-01-01 16:30:00.192857142  -3.832161  \n",
              "2022-01-01 16:30:00.289285714  -3.832644  \n",
              "2022-01-01 16:30:00.385714285  -3.833007  \n",
              "...                                  ...  \n",
              "2022-01-01 19:29:59.614285714 -28.696954  \n",
              "2022-01-01 19:29:59.710714285 -10.686954  \n",
              "2022-01-01 19:29:59.807142857 -10.687075  \n",
              "2022-01-01 19:29:59.903571428 -10.697075  \n",
              "2022-01-01 19:30:00.000000000 -28.697196  \n",
              "\n",
              "[112001 rows x 11 columns]"
            ],
            "text/html": [
              "\n",
              "  <div id=\"df-072ed181-c083-48a8-ac2a-cee83d596b6f\">\n",
              "    <div class=\"colab-df-container\">\n",
              "      <div>\n",
              "<style scoped>\n",
              "    .dataframe tbody tr th:only-of-type {\n",
              "        vertical-align: middle;\n",
              "    }\n",
              "\n",
              "    .dataframe tbody tr th {\n",
              "        vertical-align: top;\n",
              "    }\n",
              "\n",
              "    .dataframe thead th {\n",
              "        text-align: right;\n",
              "    }\n",
              "</style>\n",
              "<table border=\"1\" class=\"dataframe\">\n",
              "  <thead>\n",
              "    <tr style=\"text-align: right;\">\n",
              "      <th></th>\n",
              "      <th>vibration</th>\n",
              "      <th>pred_vibr_x1</th>\n",
              "      <th>error_x1</th>\n",
              "      <th>error_x2</th>\n",
              "      <th>pred_vibr_x2</th>\n",
              "      <th>pred_vibr_x3</th>\n",
              "      <th>error_x3</th>\n",
              "      <th>pred_vibr_x4</th>\n",
              "      <th>error_x4</th>\n",
              "      <th>pred_vibr_x5</th>\n",
              "      <th>error_x5</th>\n",
              "    </tr>\n",
              "  </thead>\n",
              "  <tbody>\n",
              "    <tr>\n",
              "      <th>2022-01-01 16:30:00.000000000</th>\n",
              "      <td>18.00</td>\n",
              "      <td>21.728883</td>\n",
              "      <td>-3.728883</td>\n",
              "      <td>-3.544198</td>\n",
              "      <td>21.544198</td>\n",
              "      <td>21.741366</td>\n",
              "      <td>-3.741366</td>\n",
              "      <td>18.312146</td>\n",
              "      <td>-0.312146</td>\n",
              "      <td>21.835913</td>\n",
              "      <td>-3.835913</td>\n",
              "    </tr>\n",
              "    <tr>\n",
              "      <th>2022-01-01 16:30:00.096428571</th>\n",
              "      <td>18.00</td>\n",
              "      <td>21.729380</td>\n",
              "      <td>-3.729380</td>\n",
              "      <td>-3.544707</td>\n",
              "      <td>21.544707</td>\n",
              "      <td>21.741860</td>\n",
              "      <td>-3.741860</td>\n",
              "      <td>18.313266</td>\n",
              "      <td>-0.313266</td>\n",
              "      <td>21.836396</td>\n",
              "      <td>-3.836396</td>\n",
              "    </tr>\n",
              "    <tr>\n",
              "      <th>2022-01-01 16:30:00.192857142</th>\n",
              "      <td>18.00</td>\n",
              "      <td>21.725226</td>\n",
              "      <td>-3.725226</td>\n",
              "      <td>-3.540678</td>\n",
              "      <td>21.540678</td>\n",
              "      <td>21.737758</td>\n",
              "      <td>-3.737758</td>\n",
              "      <td>18.310304</td>\n",
              "      <td>-0.310304</td>\n",
              "      <td>21.832161</td>\n",
              "      <td>-3.832161</td>\n",
              "    </tr>\n",
              "    <tr>\n",
              "      <th>2022-01-01 16:30:00.289285714</th>\n",
              "      <td>18.00</td>\n",
              "      <td>21.725722</td>\n",
              "      <td>-3.725722</td>\n",
              "      <td>-3.541187</td>\n",
              "      <td>21.541187</td>\n",
              "      <td>21.738252</td>\n",
              "      <td>-3.738252</td>\n",
              "      <td>18.311424</td>\n",
              "      <td>-0.311424</td>\n",
              "      <td>21.832644</td>\n",
              "      <td>-3.832644</td>\n",
              "    </tr>\n",
              "    <tr>\n",
              "      <th>2022-01-01 16:30:00.385714285</th>\n",
              "      <td>18.00</td>\n",
              "      <td>21.726094</td>\n",
              "      <td>-3.726094</td>\n",
              "      <td>-3.541569</td>\n",
              "      <td>21.541569</td>\n",
              "      <td>21.738623</td>\n",
              "      <td>-3.738623</td>\n",
              "      <td>18.312264</td>\n",
              "      <td>-0.312264</td>\n",
              "      <td>21.833007</td>\n",
              "      <td>-3.833007</td>\n",
              "    </tr>\n",
              "    <tr>\n",
              "      <th>...</th>\n",
              "      <td>...</td>\n",
              "      <td>...</td>\n",
              "      <td>...</td>\n",
              "      <td>...</td>\n",
              "      <td>...</td>\n",
              "      <td>...</td>\n",
              "      <td>...</td>\n",
              "      <td>...</td>\n",
              "      <td>...</td>\n",
              "      <td>...</td>\n",
              "      <td>...</td>\n",
              "    </tr>\n",
              "    <tr>\n",
              "      <th>2022-01-01 19:29:59.614285714</th>\n",
              "      <td>2.00</td>\n",
              "      <td>30.826472</td>\n",
              "      <td>-28.826472</td>\n",
              "      <td>-28.872058</td>\n",
              "      <td>30.872058</td>\n",
              "      <td>30.794552</td>\n",
              "      <td>-28.794552</td>\n",
              "      <td>30.800425</td>\n",
              "      <td>-28.800425</td>\n",
              "      <td>30.696954</td>\n",
              "      <td>-28.696954</td>\n",
              "    </tr>\n",
              "    <tr>\n",
              "      <th>2022-01-01 19:29:59.710714285</th>\n",
              "      <td>20.01</td>\n",
              "      <td>30.826472</td>\n",
              "      <td>-10.816472</td>\n",
              "      <td>-10.862058</td>\n",
              "      <td>30.872058</td>\n",
              "      <td>30.794552</td>\n",
              "      <td>-10.784552</td>\n",
              "      <td>30.800425</td>\n",
              "      <td>-10.790425</td>\n",
              "      <td>30.696954</td>\n",
              "      <td>-10.686954</td>\n",
              "    </tr>\n",
              "    <tr>\n",
              "      <th>2022-01-01 19:29:59.807142857</th>\n",
              "      <td>20.01</td>\n",
              "      <td>30.826597</td>\n",
              "      <td>-10.816597</td>\n",
              "      <td>-10.862185</td>\n",
              "      <td>30.872185</td>\n",
              "      <td>30.794676</td>\n",
              "      <td>-10.784676</td>\n",
              "      <td>30.800486</td>\n",
              "      <td>-10.790486</td>\n",
              "      <td>30.697075</td>\n",
              "      <td>-10.687075</td>\n",
              "    </tr>\n",
              "    <tr>\n",
              "      <th>2022-01-01 19:29:59.903571428</th>\n",
              "      <td>20.00</td>\n",
              "      <td>30.826597</td>\n",
              "      <td>-10.826597</td>\n",
              "      <td>-10.872185</td>\n",
              "      <td>30.872185</td>\n",
              "      <td>30.794676</td>\n",
              "      <td>-10.794676</td>\n",
              "      <td>30.800486</td>\n",
              "      <td>-10.800486</td>\n",
              "      <td>30.697075</td>\n",
              "      <td>-10.697075</td>\n",
              "    </tr>\n",
              "    <tr>\n",
              "      <th>2022-01-01 19:30:00.000000000</th>\n",
              "      <td>2.00</td>\n",
              "      <td>30.826721</td>\n",
              "      <td>-28.826721</td>\n",
              "      <td>-28.872312</td>\n",
              "      <td>30.872312</td>\n",
              "      <td>30.794799</td>\n",
              "      <td>-28.794799</td>\n",
              "      <td>30.800546</td>\n",
              "      <td>-28.800546</td>\n",
              "      <td>30.697196</td>\n",
              "      <td>-28.697196</td>\n",
              "    </tr>\n",
              "  </tbody>\n",
              "</table>\n",
              "<p>112001 rows × 11 columns</p>\n",
              "</div>\n",
              "      <button class=\"colab-df-convert\" onclick=\"convertToInteractive('df-072ed181-c083-48a8-ac2a-cee83d596b6f')\"\n",
              "              title=\"Convert this dataframe to an interactive table.\"\n",
              "              style=\"display:none;\">\n",
              "        \n",
              "  <svg xmlns=\"http://www.w3.org/2000/svg\" height=\"24px\"viewBox=\"0 0 24 24\"\n",
              "       width=\"24px\">\n",
              "    <path d=\"M0 0h24v24H0V0z\" fill=\"none\"/>\n",
              "    <path d=\"M18.56 5.44l.94 2.06.94-2.06 2.06-.94-2.06-.94-.94-2.06-.94 2.06-2.06.94zm-11 1L8.5 8.5l.94-2.06 2.06-.94-2.06-.94L8.5 2.5l-.94 2.06-2.06.94zm10 10l.94 2.06.94-2.06 2.06-.94-2.06-.94-.94-2.06-.94 2.06-2.06.94z\"/><path d=\"M17.41 7.96l-1.37-1.37c-.4-.4-.92-.59-1.43-.59-.52 0-1.04.2-1.43.59L10.3 9.45l-7.72 7.72c-.78.78-.78 2.05 0 2.83L4 21.41c.39.39.9.59 1.41.59.51 0 1.02-.2 1.41-.59l7.78-7.78 2.81-2.81c.8-.78.8-2.07 0-2.86zM5.41 20L4 18.59l7.72-7.72 1.47 1.35L5.41 20z\"/>\n",
              "  </svg>\n",
              "      </button>\n",
              "      \n",
              "  <style>\n",
              "    .colab-df-container {\n",
              "      display:flex;\n",
              "      flex-wrap:wrap;\n",
              "      gap: 12px;\n",
              "    }\n",
              "\n",
              "    .colab-df-convert {\n",
              "      background-color: #E8F0FE;\n",
              "      border: none;\n",
              "      border-radius: 50%;\n",
              "      cursor: pointer;\n",
              "      display: none;\n",
              "      fill: #1967D2;\n",
              "      height: 32px;\n",
              "      padding: 0 0 0 0;\n",
              "      width: 32px;\n",
              "    }\n",
              "\n",
              "    .colab-df-convert:hover {\n",
              "      background-color: #E2EBFA;\n",
              "      box-shadow: 0px 1px 2px rgba(60, 64, 67, 0.3), 0px 1px 3px 1px rgba(60, 64, 67, 0.15);\n",
              "      fill: #174EA6;\n",
              "    }\n",
              "\n",
              "    [theme=dark] .colab-df-convert {\n",
              "      background-color: #3B4455;\n",
              "      fill: #D2E3FC;\n",
              "    }\n",
              "\n",
              "    [theme=dark] .colab-df-convert:hover {\n",
              "      background-color: #434B5C;\n",
              "      box-shadow: 0px 1px 3px 1px rgba(0, 0, 0, 0.15);\n",
              "      filter: drop-shadow(0px 1px 2px rgba(0, 0, 0, 0.3));\n",
              "      fill: #FFFFFF;\n",
              "    }\n",
              "  </style>\n",
              "\n",
              "      <script>\n",
              "        const buttonEl =\n",
              "          document.querySelector('#df-072ed181-c083-48a8-ac2a-cee83d596b6f button.colab-df-convert');\n",
              "        buttonEl.style.display =\n",
              "          google.colab.kernel.accessAllowed ? 'block' : 'none';\n",
              "\n",
              "        async function convertToInteractive(key) {\n",
              "          const element = document.querySelector('#df-072ed181-c083-48a8-ac2a-cee83d596b6f');\n",
              "          const dataTable =\n",
              "            await google.colab.kernel.invokeFunction('convertToInteractive',\n",
              "                                                     [key], {});\n",
              "          if (!dataTable) return;\n",
              "\n",
              "          const docLinkHtml = 'Like what you see? Visit the ' +\n",
              "            '<a target=\"_blank\" href=https://colab.research.google.com/notebooks/data_table.ipynb>data table notebook</a>'\n",
              "            + ' to learn more about interactive tables.';\n",
              "          element.innerHTML = '';\n",
              "          dataTable['output_type'] = 'display_data';\n",
              "          await google.colab.output.renderOutput(dataTable, element);\n",
              "          const docLink = document.createElement('div');\n",
              "          docLink.innerHTML = docLinkHtml;\n",
              "          element.appendChild(docLink);\n",
              "        }\n",
              "      </script>\n",
              "    </div>\n",
              "  </div>\n",
              "  "
            ]
          },
          "metadata": {},
          "execution_count": 252
        }
      ]
    }
  ]
}